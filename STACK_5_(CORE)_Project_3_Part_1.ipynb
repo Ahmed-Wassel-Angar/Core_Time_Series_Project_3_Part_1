{
 "cells": [
  {
   "cell_type": "code",
   "execution_count": 2,
   "metadata": {},
   "outputs": [
    {
     "name": "stdout",
     "output_type": "stream",
     "text": [
      "Requirement already satisfied: pip in c:\\users\\hp\\appdata\\local\\programs\\python\\python312\\lib\\site-packages (23.3.2)\n",
      "Collecting pip\n",
      "  Downloading pip-24.0-py3-none-any.whl.metadata (3.6 kB)\n",
      "Downloading pip-24.0-py3-none-any.whl (2.1 MB)\n",
      "   ---------------------------------------- 0.0/2.1 MB ? eta -:--:--\n",
      "   ---------------------------------------- 0.0/2.1 MB ? eta -:--:--\n",
      "   ---------------------------------------- 0.0/2.1 MB ? eta -:--:--\n",
      "   ---------------------------------------- 0.0/2.1 MB ? eta -:--:--\n",
      "    --------------------------------------- 0.0/2.1 MB 262.6 kB/s eta 0:00:08\n",
      "   - -------------------------------------- 0.1/2.1 MB 393.8 kB/s eta 0:00:06\n",
      "   --- ------------------------------------ 0.2/2.1 MB 821.4 kB/s eta 0:00:03\n",
      "   ----- ---------------------------------- 0.3/2.1 MB 1.0 MB/s eta 0:00:02\n",
      "   ------- -------------------------------- 0.4/2.1 MB 1.3 MB/s eta 0:00:02\n",
      "   ---------- ----------------------------- 0.5/2.1 MB 1.6 MB/s eta 0:00:01\n",
      "   ------------- -------------------------- 0.7/2.1 MB 1.8 MB/s eta 0:00:01\n",
      "   ---------------- ----------------------- 0.9/2.1 MB 2.0 MB/s eta 0:00:01\n",
      "   ------------------ --------------------- 1.0/2.1 MB 2.1 MB/s eta 0:00:01\n",
      "   --------------------- ------------------ 1.1/2.1 MB 2.2 MB/s eta 0:00:01\n",
      "   ------------------------ --------------- 1.3/2.1 MB 2.3 MB/s eta 0:00:01\n",
      "   --------------------------- ------------ 1.5/2.1 MB 2.4 MB/s eta 0:00:01\n",
      "   ------------------------------- -------- 1.6/2.1 MB 2.5 MB/s eta 0:00:01\n",
      "   ---------------------------------- ----- 1.8/2.1 MB 2.6 MB/s eta 0:00:01\n",
      "   ------------------------------------- -- 2.0/2.1 MB 2.6 MB/s eta 0:00:01\n",
      "   ---------------------------------------  2.1/2.1 MB 2.7 MB/s eta 0:00:01\n",
      "   ---------------------------------------  2.1/2.1 MB 2.7 MB/s eta 0:00:01\n",
      "   ---------------------------------------  2.1/2.1 MB 2.7 MB/s eta 0:00:01\n",
      "   ---------------------------------------  2.1/2.1 MB 2.7 MB/s eta 0:00:01\n",
      "   ---------------------------------------- 2.1/2.1 MB 2.2 MB/s eta 0:00:00\n"
     ]
    },
    {
     "name": "stderr",
     "output_type": "stream",
     "text": [
      "ERROR: To modify pip, please run the following command:\n",
      "C:\\Users\\HP\\AppData\\Local\\Programs\\Python\\Python312\\python.exe -m pip install --upgrade pip\n",
      "\n",
      "[notice] A new release of pip is available: 23.3.2 -> 24.0\n",
      "[notice] To update, run: python.exe -m pip install --upgrade pip\n"
     ]
    }
   ],
   "source": [
    "!pip install --upgrade pip"
   ]
  },
  {
   "cell_type": "code",
   "execution_count": 3,
   "metadata": {
    "colab": {
     "base_uri": "https://localhost:8080/"
    },
    "id": "P7B9JoeZSV9K",
    "outputId": "64eb7798-eb0a-4618-e8e0-a1775483faa0"
   },
   "outputs": [
    {
     "name": "stdout",
     "output_type": "stream",
     "text": [
      "Requirement already satisfied: holidays in c:\\users\\hp\\appdata\\local\\programs\\python\\python312\\lib\\site-packages (0.44)\n",
      "Requirement already satisfied: python-dateutil in c:\\users\\hp\\appdata\\local\\programs\\python\\python312\\lib\\site-packages (from holidays) (2.9.0.post0)\n",
      "Requirement already satisfied: six>=1.5 in c:\\users\\hp\\appdata\\local\\programs\\python\\python312\\lib\\site-packages (from python-dateutil->holidays) (1.16.0)\n"
     ]
    },
    {
     "name": "stderr",
     "output_type": "stream",
     "text": [
      "\n",
      "[notice] A new release of pip is available: 23.3.2 -> 24.0\n",
      "[notice] To update, run: python.exe -m pip install --upgrade pip\n"
     ]
    }
   ],
   "source": [
    "!pip install holidays"
   ]
  },
  {
   "cell_type": "code",
   "execution_count": 4,
   "metadata": {
    "id": "FgNoIE0HRasZ"
   },
   "outputs": [],
   "source": [
    "import pandas as pd\n",
    "import glob\n",
    "import numpy as np\n",
    "import matplotlib as mp\n",
    "import matplotlib.pyplot as plt\n",
    "import seaborn as sns\n",
    "import datetime as dt\n",
    "\n",
    "import warnings\n",
    "warnings.filterwarnings(\"ignore\")"
   ]
  },
  {
   "cell_type": "markdown",
   "metadata": {
    "id": "N7tiZRmwRmkQ"
   },
   "source": [
    "# **Load Data**"
   ]
  },
  {
   "cell_type": "code",
   "execution_count": 5,
   "metadata": {
    "colab": {
     "base_uri": "https://localhost:8080/"
    },
    "id": "IFJTkivCSb51",
    "outputId": "c0bd4b7c-40fc-418e-9628-b785275a22b6"
   },
   "outputs": [
    {
     "name": "stdout",
     "output_type": "stream",
     "text": [
      "              ID                    Date        Primary Type  \\\n",
      "0        1326041  01/01/2001 01:00:00 AM             BATTERY   \n",
      "1        1319931  01/01/2001 01:00:00 PM             BATTERY   \n",
      "2        1324743  01/01/2001 01:00:00 PM            GAMBLING   \n",
      "3        1310717  01/01/2001 01:00:00 AM     CRIMINAL DAMAGE   \n",
      "4        1318099  01/01/2001 01:00:00 AM             BATTERY   \n",
      "...          ...                     ...                 ...   \n",
      "238853  12938029  12/31/2022 12:50:00 PM             ASSAULT   \n",
      "238854  12937822  12/31/2022 12:50:00 PM             ASSAULT   \n",
      "238855  12937583  12/31/2022 12:52:00 AM             BATTERY   \n",
      "238856  12938420  12/31/2022 12:52:00 PM             ASSAULT   \n",
      "238857  12939906  12/31/2022 12:59:00 PM  DECEPTIVE PRACTICE   \n",
      "\n",
      "                                    Description          Location Description  \\\n",
      "0                                        SIMPLE                     RESIDENCE   \n",
      "1                                        SIMPLE                     RESIDENCE   \n",
      "2                           ILLEGAL ILL LOTTERY                        STREET   \n",
      "3                                    TO VEHICLE                        STREET   \n",
      "4                                        SIMPLE       RESIDENCE PORCH/HALLWAY   \n",
      "...                                         ...                           ...   \n",
      "238853                                   SIMPLE                     APARTMENT   \n",
      "238854                     AGGRAVATED - HANDGUN                     APARTMENT   \n",
      "238855                                   SIMPLE                    BARBERSHOP   \n",
      "238856                                   SIMPLE  COMMERCIAL / BUSINESS OFFICE   \n",
      "238857  FINANCIAL IDENTITY THEFT $300 AND UNDER                     RESIDENCE   \n",
      "\n",
      "        Arrest  Domestic  Beat  District  Ward   Latitude  Longitude  \n",
      "0        False     False  1624      16.0   NaN  41.957850 -87.749185  \n",
      "1        False      True   825       8.0   NaN  41.783892 -87.684841  \n",
      "2         True     False   313       3.0   NaN  41.780412 -87.611970  \n",
      "3        False     False  2424      24.0   NaN  42.012391 -87.678032  \n",
      "4        False      True   214       2.0   NaN  41.819538 -87.620020  \n",
      "...        ...       ...   ...       ...   ...        ...        ...  \n",
      "238853   False     False  1014      10.0  24.0  41.855911 -87.719966  \n",
      "238854   False      True   733       7.0   6.0  41.766546 -87.645669  \n",
      "238855   False     False  1135      11.0  28.0  41.868829 -87.686098  \n",
      "238856   False     False  1432      14.0  32.0  41.930693 -87.685657  \n",
      "238857   False     False  1511      15.0  29.0        NaN        NaN  \n",
      "\n",
      "[7713109 rows x 12 columns]\n"
     ]
    }
   ],
   "source": [
    "# Get a list of all CSV files in a directory\n",
    "csv_files = glob.glob('Data/*.csv')\n",
    "\n",
    "# Create an empty dataframe to store the combined data\n",
    "df = pd.DataFrame()\n",
    "\n",
    "# Loop through each CSV file and append its contents to the combined dataframe\n",
    "for csv_file in csv_files:\n",
    "    temp_df = pd.read_csv(csv_file)\n",
    "    df = pd.concat([df, temp_df])\n",
    "\n",
    "# Print the combined dataframe\n",
    "print(df)"
   ]
  },
  {
   "cell_type": "code",
   "execution_count": 6,
   "metadata": {
    "colab": {
     "base_uri": "https://localhost:8080/",
     "height": 557
    },
    "id": "vnsq8ak0VMUY",
    "outputId": "510955d0-416a-4467-d3f6-fee09f3d0c37"
   },
   "outputs": [
    {
     "name": "stdout",
     "output_type": "stream",
     "text": [
      "<class 'pandas.core.frame.DataFrame'>\n",
      "Index: 7713109 entries, 0 to 238857\n",
      "Data columns (total 12 columns):\n",
      " #   Column                Dtype  \n",
      "---  ------                -----  \n",
      " 0   ID                    int64  \n",
      " 1   Date                  object \n",
      " 2   Primary Type          object \n",
      " 3   Description           object \n",
      " 4   Location Description  object \n",
      " 5   Arrest                bool   \n",
      " 6   Domestic              bool   \n",
      " 7   Beat                  int64  \n",
      " 8   District              float64\n",
      " 9   Ward                  float64\n",
      " 10  Latitude              float64\n",
      " 11  Longitude             float64\n",
      "dtypes: bool(2), float64(4), int64(2), object(4)\n",
      "memory usage: 662.0+ MB\n"
     ]
    },
    {
     "data": {
      "text/html": [
       "<div>\n",
       "<style scoped>\n",
       "    .dataframe tbody tr th:only-of-type {\n",
       "        vertical-align: middle;\n",
       "    }\n",
       "\n",
       "    .dataframe tbody tr th {\n",
       "        vertical-align: top;\n",
       "    }\n",
       "\n",
       "    .dataframe thead th {\n",
       "        text-align: right;\n",
       "    }\n",
       "</style>\n",
       "<table border=\"1\" class=\"dataframe\">\n",
       "  <thead>\n",
       "    <tr style=\"text-align: right;\">\n",
       "      <th></th>\n",
       "      <th>ID</th>\n",
       "      <th>Date</th>\n",
       "      <th>Primary Type</th>\n",
       "      <th>Description</th>\n",
       "      <th>Location Description</th>\n",
       "      <th>Arrest</th>\n",
       "      <th>Domestic</th>\n",
       "      <th>Beat</th>\n",
       "      <th>District</th>\n",
       "      <th>Ward</th>\n",
       "      <th>Latitude</th>\n",
       "      <th>Longitude</th>\n",
       "    </tr>\n",
       "  </thead>\n",
       "  <tbody>\n",
       "    <tr>\n",
       "      <th>0</th>\n",
       "      <td>1326041</td>\n",
       "      <td>01/01/2001 01:00:00 AM</td>\n",
       "      <td>BATTERY</td>\n",
       "      <td>SIMPLE</td>\n",
       "      <td>RESIDENCE</td>\n",
       "      <td>False</td>\n",
       "      <td>False</td>\n",
       "      <td>1624</td>\n",
       "      <td>16.0</td>\n",
       "      <td>NaN</td>\n",
       "      <td>41.957850</td>\n",
       "      <td>-87.749185</td>\n",
       "    </tr>\n",
       "    <tr>\n",
       "      <th>1</th>\n",
       "      <td>1319931</td>\n",
       "      <td>01/01/2001 01:00:00 PM</td>\n",
       "      <td>BATTERY</td>\n",
       "      <td>SIMPLE</td>\n",
       "      <td>RESIDENCE</td>\n",
       "      <td>False</td>\n",
       "      <td>True</td>\n",
       "      <td>825</td>\n",
       "      <td>8.0</td>\n",
       "      <td>NaN</td>\n",
       "      <td>41.783892</td>\n",
       "      <td>-87.684841</td>\n",
       "    </tr>\n",
       "    <tr>\n",
       "      <th>2</th>\n",
       "      <td>1324743</td>\n",
       "      <td>01/01/2001 01:00:00 PM</td>\n",
       "      <td>GAMBLING</td>\n",
       "      <td>ILLEGAL ILL LOTTERY</td>\n",
       "      <td>STREET</td>\n",
       "      <td>True</td>\n",
       "      <td>False</td>\n",
       "      <td>313</td>\n",
       "      <td>3.0</td>\n",
       "      <td>NaN</td>\n",
       "      <td>41.780412</td>\n",
       "      <td>-87.611970</td>\n",
       "    </tr>\n",
       "    <tr>\n",
       "      <th>3</th>\n",
       "      <td>1310717</td>\n",
       "      <td>01/01/2001 01:00:00 AM</td>\n",
       "      <td>CRIMINAL DAMAGE</td>\n",
       "      <td>TO VEHICLE</td>\n",
       "      <td>STREET</td>\n",
       "      <td>False</td>\n",
       "      <td>False</td>\n",
       "      <td>2424</td>\n",
       "      <td>24.0</td>\n",
       "      <td>NaN</td>\n",
       "      <td>42.012391</td>\n",
       "      <td>-87.678032</td>\n",
       "    </tr>\n",
       "    <tr>\n",
       "      <th>4</th>\n",
       "      <td>1318099</td>\n",
       "      <td>01/01/2001 01:00:00 AM</td>\n",
       "      <td>BATTERY</td>\n",
       "      <td>SIMPLE</td>\n",
       "      <td>RESIDENCE PORCH/HALLWAY</td>\n",
       "      <td>False</td>\n",
       "      <td>True</td>\n",
       "      <td>214</td>\n",
       "      <td>2.0</td>\n",
       "      <td>NaN</td>\n",
       "      <td>41.819538</td>\n",
       "      <td>-87.620020</td>\n",
       "    </tr>\n",
       "  </tbody>\n",
       "</table>\n",
       "</div>"
      ],
      "text/plain": [
       "        ID                    Date     Primary Type          Description  \\\n",
       "0  1326041  01/01/2001 01:00:00 AM          BATTERY               SIMPLE   \n",
       "1  1319931  01/01/2001 01:00:00 PM          BATTERY               SIMPLE   \n",
       "2  1324743  01/01/2001 01:00:00 PM         GAMBLING  ILLEGAL ILL LOTTERY   \n",
       "3  1310717  01/01/2001 01:00:00 AM  CRIMINAL DAMAGE           TO VEHICLE   \n",
       "4  1318099  01/01/2001 01:00:00 AM          BATTERY               SIMPLE   \n",
       "\n",
       "      Location Description  Arrest  Domestic  Beat  District  Ward   Latitude  \\\n",
       "0                RESIDENCE   False     False  1624      16.0   NaN  41.957850   \n",
       "1                RESIDENCE   False      True   825       8.0   NaN  41.783892   \n",
       "2                   STREET    True     False   313       3.0   NaN  41.780412   \n",
       "3                   STREET   False     False  2424      24.0   NaN  42.012391   \n",
       "4  RESIDENCE PORCH/HALLWAY   False      True   214       2.0   NaN  41.819538   \n",
       "\n",
       "   Longitude  \n",
       "0 -87.749185  \n",
       "1 -87.684841  \n",
       "2 -87.611970  \n",
       "3 -87.678032  \n",
       "4 -87.620020  "
      ]
     },
     "execution_count": 6,
     "metadata": {},
     "output_type": "execute_result"
    }
   ],
   "source": [
    "df.info()\n",
    "df.head()"
   ]
  },
  {
   "cell_type": "code",
   "execution_count": 7,
   "metadata": {
    "colab": {
     "base_uri": "https://localhost:8080/",
     "height": 206
    },
    "id": "a0ailXE9i3Mp",
    "outputId": "b989a3eb-c505-4907-c04a-e50d894f3e4b"
   },
   "outputs": [
    {
     "data": {
      "text/html": [
       "<div>\n",
       "<style scoped>\n",
       "    .dataframe tbody tr th:only-of-type {\n",
       "        vertical-align: middle;\n",
       "    }\n",
       "\n",
       "    .dataframe tbody tr th {\n",
       "        vertical-align: top;\n",
       "    }\n",
       "\n",
       "    .dataframe thead th {\n",
       "        text-align: right;\n",
       "    }\n",
       "</style>\n",
       "<table border=\"1\" class=\"dataframe\">\n",
       "  <thead>\n",
       "    <tr style=\"text-align: right;\">\n",
       "      <th></th>\n",
       "      <th>ID</th>\n",
       "      <th>Date</th>\n",
       "      <th>Primary Type</th>\n",
       "      <th>Description</th>\n",
       "      <th>Location Description</th>\n",
       "      <th>Arrest</th>\n",
       "      <th>Domestic</th>\n",
       "      <th>Beat</th>\n",
       "      <th>District</th>\n",
       "      <th>Ward</th>\n",
       "      <th>Latitude</th>\n",
       "      <th>Longitude</th>\n",
       "      <th>nbr_crimes</th>\n",
       "    </tr>\n",
       "  </thead>\n",
       "  <tbody>\n",
       "    <tr>\n",
       "      <th>0</th>\n",
       "      <td>1326041</td>\n",
       "      <td>01/01/2001 01:00:00 AM</td>\n",
       "      <td>BATTERY</td>\n",
       "      <td>SIMPLE</td>\n",
       "      <td>RESIDENCE</td>\n",
       "      <td>False</td>\n",
       "      <td>False</td>\n",
       "      <td>1624</td>\n",
       "      <td>16.0</td>\n",
       "      <td>NaN</td>\n",
       "      <td>41.957850</td>\n",
       "      <td>-87.749185</td>\n",
       "      <td>1</td>\n",
       "    </tr>\n",
       "    <tr>\n",
       "      <th>1</th>\n",
       "      <td>1319931</td>\n",
       "      <td>01/01/2001 01:00:00 PM</td>\n",
       "      <td>BATTERY</td>\n",
       "      <td>SIMPLE</td>\n",
       "      <td>RESIDENCE</td>\n",
       "      <td>False</td>\n",
       "      <td>True</td>\n",
       "      <td>825</td>\n",
       "      <td>8.0</td>\n",
       "      <td>NaN</td>\n",
       "      <td>41.783892</td>\n",
       "      <td>-87.684841</td>\n",
       "      <td>1</td>\n",
       "    </tr>\n",
       "    <tr>\n",
       "      <th>2</th>\n",
       "      <td>1324743</td>\n",
       "      <td>01/01/2001 01:00:00 PM</td>\n",
       "      <td>GAMBLING</td>\n",
       "      <td>ILLEGAL ILL LOTTERY</td>\n",
       "      <td>STREET</td>\n",
       "      <td>True</td>\n",
       "      <td>False</td>\n",
       "      <td>313</td>\n",
       "      <td>3.0</td>\n",
       "      <td>NaN</td>\n",
       "      <td>41.780412</td>\n",
       "      <td>-87.611970</td>\n",
       "      <td>1</td>\n",
       "    </tr>\n",
       "    <tr>\n",
       "      <th>3</th>\n",
       "      <td>1310717</td>\n",
       "      <td>01/01/2001 01:00:00 AM</td>\n",
       "      <td>CRIMINAL DAMAGE</td>\n",
       "      <td>TO VEHICLE</td>\n",
       "      <td>STREET</td>\n",
       "      <td>False</td>\n",
       "      <td>False</td>\n",
       "      <td>2424</td>\n",
       "      <td>24.0</td>\n",
       "      <td>NaN</td>\n",
       "      <td>42.012391</td>\n",
       "      <td>-87.678032</td>\n",
       "      <td>1</td>\n",
       "    </tr>\n",
       "    <tr>\n",
       "      <th>4</th>\n",
       "      <td>1318099</td>\n",
       "      <td>01/01/2001 01:00:00 AM</td>\n",
       "      <td>BATTERY</td>\n",
       "      <td>SIMPLE</td>\n",
       "      <td>RESIDENCE PORCH/HALLWAY</td>\n",
       "      <td>False</td>\n",
       "      <td>True</td>\n",
       "      <td>214</td>\n",
       "      <td>2.0</td>\n",
       "      <td>NaN</td>\n",
       "      <td>41.819538</td>\n",
       "      <td>-87.620020</td>\n",
       "      <td>1</td>\n",
       "    </tr>\n",
       "  </tbody>\n",
       "</table>\n",
       "</div>"
      ],
      "text/plain": [
       "        ID                    Date     Primary Type          Description  \\\n",
       "0  1326041  01/01/2001 01:00:00 AM          BATTERY               SIMPLE   \n",
       "1  1319931  01/01/2001 01:00:00 PM          BATTERY               SIMPLE   \n",
       "2  1324743  01/01/2001 01:00:00 PM         GAMBLING  ILLEGAL ILL LOTTERY   \n",
       "3  1310717  01/01/2001 01:00:00 AM  CRIMINAL DAMAGE           TO VEHICLE   \n",
       "4  1318099  01/01/2001 01:00:00 AM          BATTERY               SIMPLE   \n",
       "\n",
       "      Location Description  Arrest  Domestic  Beat  District  Ward   Latitude  \\\n",
       "0                RESIDENCE   False     False  1624      16.0   NaN  41.957850   \n",
       "1                RESIDENCE   False      True   825       8.0   NaN  41.783892   \n",
       "2                   STREET    True     False   313       3.0   NaN  41.780412   \n",
       "3                   STREET   False     False  2424      24.0   NaN  42.012391   \n",
       "4  RESIDENCE PORCH/HALLWAY   False      True   214       2.0   NaN  41.819538   \n",
       "\n",
       "   Longitude  nbr_crimes  \n",
       "0 -87.749185           1  \n",
       "1 -87.684841           1  \n",
       "2 -87.611970           1  \n",
       "3 -87.678032           1  \n",
       "4 -87.620020           1  "
      ]
     },
     "execution_count": 7,
     "metadata": {},
     "output_type": "execute_result"
    }
   ],
   "source": [
    "# Create # of crimes column to use later on\n",
    "df['nbr_crimes'] = 1\n",
    "df.head()"
   ]
  },
  {
   "cell_type": "code",
   "execution_count": 8,
   "metadata": {
    "colab": {
     "base_uri": "https://localhost:8080/",
     "height": 680
    },
    "id": "3a2B9r50VioJ",
    "outputId": "24221558-9433-467e-f7bb-c0b036d13ef1"
   },
   "outputs": [
    {
     "name": "stdout",
     "output_type": "stream",
     "text": [
      "<class 'pandas.core.frame.DataFrame'>\n",
      "Index: 7713109 entries, 0 to 238857\n",
      "Data columns (total 14 columns):\n",
      " #   Column                Dtype         \n",
      "---  ------                -----         \n",
      " 0   ID                    int64         \n",
      " 1   Date                  object        \n",
      " 2   Primary Type          object        \n",
      " 3   Description           object        \n",
      " 4   Location Description  object        \n",
      " 5   Arrest                bool          \n",
      " 6   Domestic              bool          \n",
      " 7   Beat                  int64         \n",
      " 8   District              float64       \n",
      " 9   Ward                  float64       \n",
      " 10  Latitude              float64       \n",
      " 11  Longitude             float64       \n",
      " 12  nbr_crimes            int64         \n",
      " 13  Datetime              datetime64[ns]\n",
      "dtypes: bool(2), datetime64[ns](1), float64(4), int64(3), object(4)\n",
      "memory usage: 779.7+ MB\n"
     ]
    },
    {
     "data": {
      "text/html": [
       "<div>\n",
       "<style scoped>\n",
       "    .dataframe tbody tr th:only-of-type {\n",
       "        vertical-align: middle;\n",
       "    }\n",
       "\n",
       "    .dataframe tbody tr th {\n",
       "        vertical-align: top;\n",
       "    }\n",
       "\n",
       "    .dataframe thead th {\n",
       "        text-align: right;\n",
       "    }\n",
       "</style>\n",
       "<table border=\"1\" class=\"dataframe\">\n",
       "  <thead>\n",
       "    <tr style=\"text-align: right;\">\n",
       "      <th></th>\n",
       "      <th>ID</th>\n",
       "      <th>Date</th>\n",
       "      <th>Primary Type</th>\n",
       "      <th>Description</th>\n",
       "      <th>Location Description</th>\n",
       "      <th>Arrest</th>\n",
       "      <th>Domestic</th>\n",
       "      <th>Beat</th>\n",
       "      <th>District</th>\n",
       "      <th>Ward</th>\n",
       "      <th>Latitude</th>\n",
       "      <th>Longitude</th>\n",
       "      <th>nbr_crimes</th>\n",
       "      <th>Datetime</th>\n",
       "    </tr>\n",
       "  </thead>\n",
       "  <tbody>\n",
       "    <tr>\n",
       "      <th>0</th>\n",
       "      <td>1326041</td>\n",
       "      <td>01/01/2001 01:00:00 AM</td>\n",
       "      <td>BATTERY</td>\n",
       "      <td>SIMPLE</td>\n",
       "      <td>RESIDENCE</td>\n",
       "      <td>False</td>\n",
       "      <td>False</td>\n",
       "      <td>1624</td>\n",
       "      <td>16.0</td>\n",
       "      <td>NaN</td>\n",
       "      <td>41.957850</td>\n",
       "      <td>-87.749185</td>\n",
       "      <td>1</td>\n",
       "      <td>2001-01-01 01:00:00</td>\n",
       "    </tr>\n",
       "    <tr>\n",
       "      <th>1</th>\n",
       "      <td>1319931</td>\n",
       "      <td>01/01/2001 01:00:00 PM</td>\n",
       "      <td>BATTERY</td>\n",
       "      <td>SIMPLE</td>\n",
       "      <td>RESIDENCE</td>\n",
       "      <td>False</td>\n",
       "      <td>True</td>\n",
       "      <td>825</td>\n",
       "      <td>8.0</td>\n",
       "      <td>NaN</td>\n",
       "      <td>41.783892</td>\n",
       "      <td>-87.684841</td>\n",
       "      <td>1</td>\n",
       "      <td>2001-01-01 13:00:00</td>\n",
       "    </tr>\n",
       "    <tr>\n",
       "      <th>2</th>\n",
       "      <td>1324743</td>\n",
       "      <td>01/01/2001 01:00:00 PM</td>\n",
       "      <td>GAMBLING</td>\n",
       "      <td>ILLEGAL ILL LOTTERY</td>\n",
       "      <td>STREET</td>\n",
       "      <td>True</td>\n",
       "      <td>False</td>\n",
       "      <td>313</td>\n",
       "      <td>3.0</td>\n",
       "      <td>NaN</td>\n",
       "      <td>41.780412</td>\n",
       "      <td>-87.611970</td>\n",
       "      <td>1</td>\n",
       "      <td>2001-01-01 13:00:00</td>\n",
       "    </tr>\n",
       "    <tr>\n",
       "      <th>3</th>\n",
       "      <td>1310717</td>\n",
       "      <td>01/01/2001 01:00:00 AM</td>\n",
       "      <td>CRIMINAL DAMAGE</td>\n",
       "      <td>TO VEHICLE</td>\n",
       "      <td>STREET</td>\n",
       "      <td>False</td>\n",
       "      <td>False</td>\n",
       "      <td>2424</td>\n",
       "      <td>24.0</td>\n",
       "      <td>NaN</td>\n",
       "      <td>42.012391</td>\n",
       "      <td>-87.678032</td>\n",
       "      <td>1</td>\n",
       "      <td>2001-01-01 01:00:00</td>\n",
       "    </tr>\n",
       "    <tr>\n",
       "      <th>4</th>\n",
       "      <td>1318099</td>\n",
       "      <td>01/01/2001 01:00:00 AM</td>\n",
       "      <td>BATTERY</td>\n",
       "      <td>SIMPLE</td>\n",
       "      <td>RESIDENCE PORCH/HALLWAY</td>\n",
       "      <td>False</td>\n",
       "      <td>True</td>\n",
       "      <td>214</td>\n",
       "      <td>2.0</td>\n",
       "      <td>NaN</td>\n",
       "      <td>41.819538</td>\n",
       "      <td>-87.620020</td>\n",
       "      <td>1</td>\n",
       "      <td>2001-01-01 01:00:00</td>\n",
       "    </tr>\n",
       "  </tbody>\n",
       "</table>\n",
       "</div>"
      ],
      "text/plain": [
       "        ID                    Date     Primary Type          Description  \\\n",
       "0  1326041  01/01/2001 01:00:00 AM          BATTERY               SIMPLE   \n",
       "1  1319931  01/01/2001 01:00:00 PM          BATTERY               SIMPLE   \n",
       "2  1324743  01/01/2001 01:00:00 PM         GAMBLING  ILLEGAL ILL LOTTERY   \n",
       "3  1310717  01/01/2001 01:00:00 AM  CRIMINAL DAMAGE           TO VEHICLE   \n",
       "4  1318099  01/01/2001 01:00:00 AM          BATTERY               SIMPLE   \n",
       "\n",
       "      Location Description  Arrest  Domestic  Beat  District  Ward   Latitude  \\\n",
       "0                RESIDENCE   False     False  1624      16.0   NaN  41.957850   \n",
       "1                RESIDENCE   False      True   825       8.0   NaN  41.783892   \n",
       "2                   STREET    True     False   313       3.0   NaN  41.780412   \n",
       "3                   STREET   False     False  2424      24.0   NaN  42.012391   \n",
       "4  RESIDENCE PORCH/HALLWAY   False      True   214       2.0   NaN  41.819538   \n",
       "\n",
       "   Longitude  nbr_crimes            Datetime  \n",
       "0 -87.749185           1 2001-01-01 01:00:00  \n",
       "1 -87.684841           1 2001-01-01 13:00:00  \n",
       "2 -87.611970           1 2001-01-01 13:00:00  \n",
       "3 -87.678032           1 2001-01-01 01:00:00  \n",
       "4 -87.620020           1 2001-01-01 01:00:00  "
      ]
     },
     "execution_count": 8,
     "metadata": {},
     "output_type": "execute_result"
    }
   ],
   "source": [
    "# Create Datetime column\n",
    "df['Datetime'] = pd.to_datetime(df['Date'], format=\"%m/%d/%Y %I:%M:%S %p\", errors='coerce')\n",
    "df.info()\n",
    "df.head()"
   ]
  },
  {
   "cell_type": "code",
   "execution_count": 9,
   "metadata": {
    "colab": {
     "base_uri": "https://localhost:8080/"
    },
    "id": "P1RNwJYmV0sF",
    "outputId": "1dbdce36-c7ca-4ba8-d635-7a962ca548e2"
   },
   "outputs": [
    {
     "data": {
      "text/plain": [
       "0"
      ]
     },
     "execution_count": 9,
     "metadata": {},
     "output_type": "execute_result"
    }
   ],
   "source": [
    "# Check for nulls\n",
    "df.Datetime.isna().sum()"
   ]
  },
  {
   "cell_type": "code",
   "execution_count": 10,
   "metadata": {
    "colab": {
     "base_uri": "https://localhost:8080/",
     "height": 1000
    },
    "id": "5WoLE15jaCHt",
    "outputId": "754ff3e1-b4db-44ba-ff5c-fbc06e1fbb18"
   },
   "outputs": [
    {
     "name": "stdout",
     "output_type": "stream",
     "text": [
      "<class 'pandas.core.frame.DataFrame'>\n",
      "DatetimeIndex: 7713109 entries, 2001-01-01 01:00:00 to 2022-12-31 12:59:00\n",
      "Data columns (total 13 columns):\n",
      " #   Column                Dtype  \n",
      "---  ------                -----  \n",
      " 0   ID                    int64  \n",
      " 1   Date                  object \n",
      " 2   Primary Type          object \n",
      " 3   Description           object \n",
      " 4   Location Description  object \n",
      " 5   Arrest                bool   \n",
      " 6   Domestic              bool   \n",
      " 7   Beat                  int64  \n",
      " 8   District              float64\n",
      " 9   Ward                  float64\n",
      " 10  Latitude              float64\n",
      " 11  Longitude             float64\n",
      " 12  nbr_crimes            int64  \n",
      "dtypes: bool(2), float64(4), int64(3), object(4)\n",
      "memory usage: 720.9+ MB\n"
     ]
    },
    {
     "data": {
      "text/html": [
       "<div>\n",
       "<style scoped>\n",
       "    .dataframe tbody tr th:only-of-type {\n",
       "        vertical-align: middle;\n",
       "    }\n",
       "\n",
       "    .dataframe tbody tr th {\n",
       "        vertical-align: top;\n",
       "    }\n",
       "\n",
       "    .dataframe thead th {\n",
       "        text-align: right;\n",
       "    }\n",
       "</style>\n",
       "<table border=\"1\" class=\"dataframe\">\n",
       "  <thead>\n",
       "    <tr style=\"text-align: right;\">\n",
       "      <th></th>\n",
       "      <th>ID</th>\n",
       "      <th>Date</th>\n",
       "      <th>Primary Type</th>\n",
       "      <th>Description</th>\n",
       "      <th>Location Description</th>\n",
       "      <th>Arrest</th>\n",
       "      <th>Domestic</th>\n",
       "      <th>Beat</th>\n",
       "      <th>District</th>\n",
       "      <th>Ward</th>\n",
       "      <th>Latitude</th>\n",
       "      <th>Longitude</th>\n",
       "      <th>nbr_crimes</th>\n",
       "    </tr>\n",
       "    <tr>\n",
       "      <th>Datetime</th>\n",
       "      <th></th>\n",
       "      <th></th>\n",
       "      <th></th>\n",
       "      <th></th>\n",
       "      <th></th>\n",
       "      <th></th>\n",
       "      <th></th>\n",
       "      <th></th>\n",
       "      <th></th>\n",
       "      <th></th>\n",
       "      <th></th>\n",
       "      <th></th>\n",
       "      <th></th>\n",
       "    </tr>\n",
       "  </thead>\n",
       "  <tbody>\n",
       "    <tr>\n",
       "      <th>2001-01-01 01:00:00</th>\n",
       "      <td>1326041</td>\n",
       "      <td>01/01/2001 01:00:00 AM</td>\n",
       "      <td>BATTERY</td>\n",
       "      <td>SIMPLE</td>\n",
       "      <td>RESIDENCE</td>\n",
       "      <td>False</td>\n",
       "      <td>False</td>\n",
       "      <td>1624</td>\n",
       "      <td>16.0</td>\n",
       "      <td>NaN</td>\n",
       "      <td>41.957850</td>\n",
       "      <td>-87.749185</td>\n",
       "      <td>1</td>\n",
       "    </tr>\n",
       "    <tr>\n",
       "      <th>2001-01-01 13:00:00</th>\n",
       "      <td>1319931</td>\n",
       "      <td>01/01/2001 01:00:00 PM</td>\n",
       "      <td>BATTERY</td>\n",
       "      <td>SIMPLE</td>\n",
       "      <td>RESIDENCE</td>\n",
       "      <td>False</td>\n",
       "      <td>True</td>\n",
       "      <td>825</td>\n",
       "      <td>8.0</td>\n",
       "      <td>NaN</td>\n",
       "      <td>41.783892</td>\n",
       "      <td>-87.684841</td>\n",
       "      <td>1</td>\n",
       "    </tr>\n",
       "    <tr>\n",
       "      <th>2001-01-01 13:00:00</th>\n",
       "      <td>1324743</td>\n",
       "      <td>01/01/2001 01:00:00 PM</td>\n",
       "      <td>GAMBLING</td>\n",
       "      <td>ILLEGAL ILL LOTTERY</td>\n",
       "      <td>STREET</td>\n",
       "      <td>True</td>\n",
       "      <td>False</td>\n",
       "      <td>313</td>\n",
       "      <td>3.0</td>\n",
       "      <td>NaN</td>\n",
       "      <td>41.780412</td>\n",
       "      <td>-87.611970</td>\n",
       "      <td>1</td>\n",
       "    </tr>\n",
       "    <tr>\n",
       "      <th>2001-01-01 01:00:00</th>\n",
       "      <td>1310717</td>\n",
       "      <td>01/01/2001 01:00:00 AM</td>\n",
       "      <td>CRIMINAL DAMAGE</td>\n",
       "      <td>TO VEHICLE</td>\n",
       "      <td>STREET</td>\n",
       "      <td>False</td>\n",
       "      <td>False</td>\n",
       "      <td>2424</td>\n",
       "      <td>24.0</td>\n",
       "      <td>NaN</td>\n",
       "      <td>42.012391</td>\n",
       "      <td>-87.678032</td>\n",
       "      <td>1</td>\n",
       "    </tr>\n",
       "    <tr>\n",
       "      <th>2001-01-01 01:00:00</th>\n",
       "      <td>1318099</td>\n",
       "      <td>01/01/2001 01:00:00 AM</td>\n",
       "      <td>BATTERY</td>\n",
       "      <td>SIMPLE</td>\n",
       "      <td>RESIDENCE PORCH/HALLWAY</td>\n",
       "      <td>False</td>\n",
       "      <td>True</td>\n",
       "      <td>214</td>\n",
       "      <td>2.0</td>\n",
       "      <td>NaN</td>\n",
       "      <td>41.819538</td>\n",
       "      <td>-87.620020</td>\n",
       "      <td>1</td>\n",
       "    </tr>\n",
       "    <tr>\n",
       "      <th>...</th>\n",
       "      <td>...</td>\n",
       "      <td>...</td>\n",
       "      <td>...</td>\n",
       "      <td>...</td>\n",
       "      <td>...</td>\n",
       "      <td>...</td>\n",
       "      <td>...</td>\n",
       "      <td>...</td>\n",
       "      <td>...</td>\n",
       "      <td>...</td>\n",
       "      <td>...</td>\n",
       "      <td>...</td>\n",
       "      <td>...</td>\n",
       "    </tr>\n",
       "    <tr>\n",
       "      <th>2022-12-31 12:50:00</th>\n",
       "      <td>12938029</td>\n",
       "      <td>12/31/2022 12:50:00 PM</td>\n",
       "      <td>ASSAULT</td>\n",
       "      <td>SIMPLE</td>\n",
       "      <td>APARTMENT</td>\n",
       "      <td>False</td>\n",
       "      <td>False</td>\n",
       "      <td>1014</td>\n",
       "      <td>10.0</td>\n",
       "      <td>24.0</td>\n",
       "      <td>41.855911</td>\n",
       "      <td>-87.719966</td>\n",
       "      <td>1</td>\n",
       "    </tr>\n",
       "    <tr>\n",
       "      <th>2022-12-31 12:50:00</th>\n",
       "      <td>12937822</td>\n",
       "      <td>12/31/2022 12:50:00 PM</td>\n",
       "      <td>ASSAULT</td>\n",
       "      <td>AGGRAVATED - HANDGUN</td>\n",
       "      <td>APARTMENT</td>\n",
       "      <td>False</td>\n",
       "      <td>True</td>\n",
       "      <td>733</td>\n",
       "      <td>7.0</td>\n",
       "      <td>6.0</td>\n",
       "      <td>41.766546</td>\n",
       "      <td>-87.645669</td>\n",
       "      <td>1</td>\n",
       "    </tr>\n",
       "    <tr>\n",
       "      <th>2022-12-31 00:52:00</th>\n",
       "      <td>12937583</td>\n",
       "      <td>12/31/2022 12:52:00 AM</td>\n",
       "      <td>BATTERY</td>\n",
       "      <td>SIMPLE</td>\n",
       "      <td>BARBERSHOP</td>\n",
       "      <td>False</td>\n",
       "      <td>False</td>\n",
       "      <td>1135</td>\n",
       "      <td>11.0</td>\n",
       "      <td>28.0</td>\n",
       "      <td>41.868829</td>\n",
       "      <td>-87.686098</td>\n",
       "      <td>1</td>\n",
       "    </tr>\n",
       "    <tr>\n",
       "      <th>2022-12-31 12:52:00</th>\n",
       "      <td>12938420</td>\n",
       "      <td>12/31/2022 12:52:00 PM</td>\n",
       "      <td>ASSAULT</td>\n",
       "      <td>SIMPLE</td>\n",
       "      <td>COMMERCIAL / BUSINESS OFFICE</td>\n",
       "      <td>False</td>\n",
       "      <td>False</td>\n",
       "      <td>1432</td>\n",
       "      <td>14.0</td>\n",
       "      <td>32.0</td>\n",
       "      <td>41.930693</td>\n",
       "      <td>-87.685657</td>\n",
       "      <td>1</td>\n",
       "    </tr>\n",
       "    <tr>\n",
       "      <th>2022-12-31 12:59:00</th>\n",
       "      <td>12939906</td>\n",
       "      <td>12/31/2022 12:59:00 PM</td>\n",
       "      <td>DECEPTIVE PRACTICE</td>\n",
       "      <td>FINANCIAL IDENTITY THEFT $300 AND UNDER</td>\n",
       "      <td>RESIDENCE</td>\n",
       "      <td>False</td>\n",
       "      <td>False</td>\n",
       "      <td>1511</td>\n",
       "      <td>15.0</td>\n",
       "      <td>29.0</td>\n",
       "      <td>NaN</td>\n",
       "      <td>NaN</td>\n",
       "      <td>1</td>\n",
       "    </tr>\n",
       "  </tbody>\n",
       "</table>\n",
       "<p>7713109 rows × 13 columns</p>\n",
       "</div>"
      ],
      "text/plain": [
       "                           ID                    Date        Primary Type  \\\n",
       "Datetime                                                                    \n",
       "2001-01-01 01:00:00   1326041  01/01/2001 01:00:00 AM             BATTERY   \n",
       "2001-01-01 13:00:00   1319931  01/01/2001 01:00:00 PM             BATTERY   \n",
       "2001-01-01 13:00:00   1324743  01/01/2001 01:00:00 PM            GAMBLING   \n",
       "2001-01-01 01:00:00   1310717  01/01/2001 01:00:00 AM     CRIMINAL DAMAGE   \n",
       "2001-01-01 01:00:00   1318099  01/01/2001 01:00:00 AM             BATTERY   \n",
       "...                       ...                     ...                 ...   \n",
       "2022-12-31 12:50:00  12938029  12/31/2022 12:50:00 PM             ASSAULT   \n",
       "2022-12-31 12:50:00  12937822  12/31/2022 12:50:00 PM             ASSAULT   \n",
       "2022-12-31 00:52:00  12937583  12/31/2022 12:52:00 AM             BATTERY   \n",
       "2022-12-31 12:52:00  12938420  12/31/2022 12:52:00 PM             ASSAULT   \n",
       "2022-12-31 12:59:00  12939906  12/31/2022 12:59:00 PM  DECEPTIVE PRACTICE   \n",
       "\n",
       "                                                 Description  \\\n",
       "Datetime                                                       \n",
       "2001-01-01 01:00:00                                   SIMPLE   \n",
       "2001-01-01 13:00:00                                   SIMPLE   \n",
       "2001-01-01 13:00:00                      ILLEGAL ILL LOTTERY   \n",
       "2001-01-01 01:00:00                               TO VEHICLE   \n",
       "2001-01-01 01:00:00                                   SIMPLE   \n",
       "...                                                      ...   \n",
       "2022-12-31 12:50:00                                   SIMPLE   \n",
       "2022-12-31 12:50:00                     AGGRAVATED - HANDGUN   \n",
       "2022-12-31 00:52:00                                   SIMPLE   \n",
       "2022-12-31 12:52:00                                   SIMPLE   \n",
       "2022-12-31 12:59:00  FINANCIAL IDENTITY THEFT $300 AND UNDER   \n",
       "\n",
       "                             Location Description  Arrest  Domestic  Beat  \\\n",
       "Datetime                                                                    \n",
       "2001-01-01 01:00:00                     RESIDENCE   False     False  1624   \n",
       "2001-01-01 13:00:00                     RESIDENCE   False      True   825   \n",
       "2001-01-01 13:00:00                        STREET    True     False   313   \n",
       "2001-01-01 01:00:00                        STREET   False     False  2424   \n",
       "2001-01-01 01:00:00       RESIDENCE PORCH/HALLWAY   False      True   214   \n",
       "...                                           ...     ...       ...   ...   \n",
       "2022-12-31 12:50:00                     APARTMENT   False     False  1014   \n",
       "2022-12-31 12:50:00                     APARTMENT   False      True   733   \n",
       "2022-12-31 00:52:00                    BARBERSHOP   False     False  1135   \n",
       "2022-12-31 12:52:00  COMMERCIAL / BUSINESS OFFICE   False     False  1432   \n",
       "2022-12-31 12:59:00                     RESIDENCE   False     False  1511   \n",
       "\n",
       "                     District  Ward   Latitude  Longitude  nbr_crimes  \n",
       "Datetime                                                               \n",
       "2001-01-01 01:00:00      16.0   NaN  41.957850 -87.749185           1  \n",
       "2001-01-01 13:00:00       8.0   NaN  41.783892 -87.684841           1  \n",
       "2001-01-01 13:00:00       3.0   NaN  41.780412 -87.611970           1  \n",
       "2001-01-01 01:00:00      24.0   NaN  42.012391 -87.678032           1  \n",
       "2001-01-01 01:00:00       2.0   NaN  41.819538 -87.620020           1  \n",
       "...                       ...   ...        ...        ...         ...  \n",
       "2022-12-31 12:50:00      10.0  24.0  41.855911 -87.719966           1  \n",
       "2022-12-31 12:50:00       7.0   6.0  41.766546 -87.645669           1  \n",
       "2022-12-31 00:52:00      11.0  28.0  41.868829 -87.686098           1  \n",
       "2022-12-31 12:52:00      14.0  32.0  41.930693 -87.685657           1  \n",
       "2022-12-31 12:59:00      15.0  29.0        NaN        NaN           1  \n",
       "\n",
       "[7713109 rows x 13 columns]"
      ]
     },
     "execution_count": 10,
     "metadata": {},
     "output_type": "execute_result"
    }
   ],
   "source": [
    "# creating the index\n",
    "df = df.set_index('Datetime')\n",
    "df.info()\n",
    "df"
   ]
  },
  {
   "cell_type": "code",
   "execution_count": 11,
   "metadata": {
    "colab": {
     "base_uri": "https://localhost:8080/"
    },
    "id": "9McLywmtjWa5",
    "outputId": "4b39a816-6e1b-4700-eb6c-d9b0b9f28e44"
   },
   "outputs": [
    {
     "name": "stdout",
     "output_type": "stream",
     "text": [
      "<class 'pandas.core.frame.DataFrame'>\n",
      "DatetimeIndex: 7713109 entries, 2001-01-01 01:00:00 to 2022-12-31 12:59:00\n",
      "Data columns (total 13 columns):\n",
      " #   Column                Dtype  \n",
      "---  ------                -----  \n",
      " 0   ID                    int64  \n",
      " 1   Date                  object \n",
      " 2   Primary Type          object \n",
      " 3   Description           object \n",
      " 4   Location Description  object \n",
      " 5   Arrest                bool   \n",
      " 6   Domestic              bool   \n",
      " 7   Beat                  int64  \n",
      " 8   District              object \n",
      " 9   Ward                  float64\n",
      " 10  Latitude              float64\n",
      " 11  Longitude             float64\n",
      " 12  nbr_crimes            int64  \n",
      "dtypes: bool(2), float64(3), int64(3), object(5)\n",
      "memory usage: 720.9+ MB\n"
     ]
    }
   ],
   "source": [
    "# convert District to string\n",
    "df['District'] = df['District'].astype(str)\n",
    "df.info()"
   ]
  },
  {
   "cell_type": "markdown",
   "metadata": {
    "id": "pKk7zYHLZvrx"
   },
   "source": [
    "# **TOPIC 1 : Comparing Police Districts:**\n"
   ]
  },
  {
   "cell_type": "markdown",
   "metadata": {
    "id": "eU-J4rtQZ3Dh"
   },
   "source": [
    "## **Which district had the most crimes and which had the least, in 2022 ?**"
   ]
  },
  {
   "cell_type": "code",
   "execution_count": 12,
   "metadata": {
    "colab": {
     "base_uri": "https://localhost:8080/",
     "height": 484
    },
    "id": "7SNZpyxjbVL8",
    "outputId": "7291097a-9b9d-4be7-9f59-d19fb2159944"
   },
   "outputs": [
    {
     "data": {
      "text/plain": [
       "<Axes: xlabel='District'>"
      ]
     },
     "execution_count": 12,
     "metadata": {},
     "output_type": "execute_result"
    },
    {
     "data": {
      "image/png": "[encoded data removed]",
      "text/plain": [
       "<Figure size 640x480 with 1 Axes>"
      ]
     },
     "metadata": {},
     "output_type": "display_data"
    }
   ],
   "source": [
    "df.loc['2022'].groupby('District')['nbr_crimes'].sum().sort_values(ascending=False).plot.bar() # could've used count() also."
   ]
  },
  {
   "cell_type": "markdown",
   "metadata": {
    "id": "Z9YhhvPjfY8_"
   },
   "source": [
    "**ANSWER:** In year 2022, Police Distric 008 had the highest number of crimes while Police District 031 had the least."
   ]
  },
  {
   "cell_type": "markdown",
   "metadata": {
    "id": "kCMejszTex1C"
   },
   "source": [
    "# **TOPIC 2: Crimes across the years:**"
   ]
  },
  {
   "cell_type": "markdown",
   "metadata": {
    "id": "tiqT8OmFiWEp"
   },
   "source": [
    "## **Is the total number of crimes increasing or decreasing across the years?**"
   ]
  },
  {
   "cell_type": "code",
   "execution_count": null,
   "metadata": {
    "colab": {
     "base_uri": "https://localhost:8080/",
     "height": 472
    },
    "id": "m0Wl-iqgdbNw",
    "outputId": "4d90917f-96af-46d1-ad26-092fdb929553"
   },
   "outputs": [],
   "source": [
    "yearly_df = df.resample('Y').sum().loc[:,'nbr_crimes']\n",
    "yearly_df.plot()"
   ]
  },
  {
   "cell_type": "markdown",
   "metadata": {
    "id": "J0JJqbMplYcr"
   },
   "source": [
    "**ANSWER:** The number of crimes is decreasing across the years, except for year 2021 to 2022."
   ]
  },
  {
   "cell_type": "markdown",
   "metadata": {
    "id": "ALDoSHD6loLE"
   },
   "source": [
    "## **Are there any individual crimes that are doing the opposite (e.g., decreasing when overall crime is increasing or vice-versa)?**"
   ]
  },
  {
   "cell_type": "code",
   "execution_count": null,
   "metadata": {
    "id": "VgjWoLQRkYiL"
   },
   "outputs": [],
   "source": [
    "yearly_crime_types_dict = {}\n",
    "\n",
    "for pt in df['Primary Type'].unique():\n",
    "  yearly_crime_types_dict[pt] = df[df['Primary Type']==pt].resample('Y').sum().loc[:,'nbr_crimes']\n",
    "yearly_crime_types_dict['All Types'] = yearly_df\n",
    "yearly_crime_types = pd.DataFrame(yearly_crime_types_dict)"
   ]
  },
  {
   "cell_type": "code",
   "execution_count": null,
   "metadata": {
    "colab": {
     "base_uri": "https://localhost:8080/",
     "height": 1000
    },
    "id": "ZtQrgQwXmcEv",
    "outputId": "5dcea12a-217c-4f76-c587-12220425499c"
   },
   "outputs": [],
   "source": [
    "ax = yearly_crime_types.plot(figsize=(12,24))\n",
    "ax.legend(bbox_to_anchor=(1,1))"
   ]
  },
  {
   "cell_type": "markdown",
   "metadata": {
    "id": "shb54nuWejio"
   },
   "source": [
    "**ANSWER:** All types of crimes are follwing the overall trend except for \"OTHER NARCOTIC VIOLATION\" which have been increasing since 2016."
   ]
  },
  {
   "cell_type": "markdown",
   "metadata": {
    "id": "tcL4WZB7e6Ln"
   },
   "source": [
    "# **Topic 3: Comparing AM vs. PM Rush Hour:**"
   ]
  },
  {
   "cell_type": "code",
   "execution_count": null,
   "metadata": {
    "colab": {
     "base_uri": "https://localhost:8080/",
     "height": 324
    },
    "id": "98MTz_osfBVz",
    "outputId": "8107e144-75ee-427d-86e9-dd57121a75a4"
   },
   "outputs": [],
   "source": [
    "df['Hour'] = df.index.hour\n",
    "df.head()"
   ]
  },
  {
   "cell_type": "code",
   "execution_count": null,
   "metadata": {
    "id": "Nh4LQdrDhSVP"
   },
   "outputs": [],
   "source": [
    "df['AM_Rush_Hour'] = df['Hour'].apply(lambda x:1 if x in [7,8,9,10] else 0)"
   ]
  },
  {
   "cell_type": "code",
   "execution_count": null,
   "metadata": {
    "id": "ALbz3BfHiZyO"
   },
   "outputs": [],
   "source": [
    "df['PM_Rush_Hour'] = df['Hour'].apply(lambda x:1 if x in [16,17,18,19] else 0)"
   ]
  },
  {
   "cell_type": "markdown",
   "metadata": {
    "id": "lbJl34rOi0xH"
   },
   "source": [
    "## **Are crimes more common during AM rush hour or PM rush hour?**"
   ]
  },
  {
   "cell_type": "code",
   "execution_count": null,
   "metadata": {
    "colab": {
     "base_uri": "https://localhost:8080/",
     "height": 463
    },
    "id": "b_gH1hLxicg1",
    "outputId": "8f03c514-ce96-43a5-fa8a-c45036fdfb65"
   },
   "outputs": [],
   "source": [
    "plt.bar(['AM_Rush_Hour','PM_Rush_Hour'], [df['AM_Rush_Hour'].sum(),df['PM_Rush_Hour'].sum()],width = 0.4)"
   ]
  },
  {
   "cell_type": "markdown",
   "metadata": {
    "id": "FcJW7phElMBv"
   },
   "source": [
    "**ANSWER:** More crimes occured in the PM Rush Hours."
   ]
  },
  {
   "cell_type": "markdown",
   "metadata": {
    "id": "5gVbh_QemKvS"
   },
   "source": [
    "## **What are the top 5 most common crimes during AM rush hour? What are the top 5 most common crimes during PM rush hour?**"
   ]
  },
  {
   "cell_type": "code",
   "execution_count": null,
   "metadata": {
    "colab": {
     "base_uri": "https://localhost:8080/",
     "height": 670
    },
    "id": "YOJP3_DZmWIR",
    "outputId": "90dab40a-6588-4471-892f-0536b820b7ce"
   },
   "outputs": [],
   "source": [
    "df[df['AM_Rush_Hour']==1].groupby('Primary Type')['nbr_crimes'].sum().sort_values(ascending=False).plot.bar(figsize=(12,4))"
   ]
  },
  {
   "cell_type": "markdown",
   "metadata": {
    "id": "cnZe9at1maTZ"
   },
   "source": [
    "**ANSWER:** The top 5 most common crimes that occured in the PM Rush Hours are:\n",
    "1.  Theft,\n",
    "2.  Battery,\n",
    "3.  Criminal Damage,\n",
    "4.  Burglary and,\n",
    "5.  Other Offense."
   ]
  },
  {
   "cell_type": "code",
   "execution_count": null,
   "metadata": {
    "colab": {
     "base_uri": "https://localhost:8080/",
     "height": 670
    },
    "id": "zpZOw2wgjD1z",
    "outputId": "165b890e-869f-4aa6-a4b6-3b6b11185f7e"
   },
   "outputs": [],
   "source": [
    "df[df['PM_Rush_Hour']==1].groupby('Primary Type')['nbr_crimes'].sum().sort_values(ascending=False).plot.bar(figsize=(12,4))"
   ]
  },
  {
   "cell_type": "markdown",
   "metadata": {
    "id": "cA43F3bhlz_b"
   },
   "source": [
    "**ANSWER:** The top 5 most common crimes that occured in the PM Rush Hours are:\n",
    "1.  Theft,\n",
    "2.  Battery,\n",
    "3.  Criminal Damage,\n",
    "4.  Narcotics and,\n",
    "5.  Assault."
   ]
  },
  {
   "cell_type": "markdown",
   "metadata": {
    "id": "j8H6tliImmhy"
   },
   "source": [
    "## **Are Motor Vehicle Thefts more common during AM rush hour or PM Rush Hour?**"
   ]
  },
  {
   "cell_type": "code",
   "execution_count": null,
   "metadata": {
    "colab": {
     "base_uri": "https://localhost:8080/",
     "height": 448
    },
    "id": "lrY2QG7Glsxf",
    "outputId": "a034aa36-39ee-43d5-a71a-d46a64906a8c"
   },
   "outputs": [],
   "source": [
    "veh_theft_AM = df[df['Primary Type']=='MOTOR VEHICLE THEFT']['AM_Rush_Hour'].sum()\n",
    "veh_theft_PM = df[df['Primary Type']=='MOTOR VEHICLE THEFT']['PM_Rush_Hour'].sum()\n",
    "plt.bar(['Vehicles Thefts in AM_Rush_Hour','Vehicles Thefts in PM_Rush_Hour'], [veh_theft_AM,veh_theft_PM],width = 0.4)"
   ]
  },
  {
   "cell_type": "markdown",
   "metadata": {
    "id": "lbtOuqxYZ4b9"
   },
   "source": [
    "**ANSWER:** Motor Vehicle Thefts are more common during PM Rush Hours."
   ]
  }
 ],
 "metadata": {
  "colab": {
   "provenance": []
  },
  "kernelspec": {
   "display_name": "Python (dojo-env)",
   "language": "python",
   "name": "dojo-env"
  },
  "language_info": {
   "codemirror_mode": {
    "name": "ipython",
    "version": 3
   },
   "file_extension": ".py",
   "mimetype": "text/x-python",
   "name": "python",
   "nbconvert_exporter": "python",
   "pygments_lexer": "ipython3",
   "version": "3.11.5"
  },
  "widgets": {
   "application/vnd.jupyter.widget-state+json": {
    "state": {},
    "version_major": 2,
    "version_minor": 0
   }
  }
 },
 "nbformat": 4,
 "nbformat_minor": 4
}
